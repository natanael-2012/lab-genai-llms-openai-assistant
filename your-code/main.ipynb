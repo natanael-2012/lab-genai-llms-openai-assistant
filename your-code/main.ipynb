{
 "cells": [
  {
   "cell_type": "markdown",
   "metadata": {},
   "source": [
    "# LAB GenAI - LLMs - OpenAI Assistant"
   ]
  },
  {
   "cell_type": "markdown",
   "metadata": {},
   "source": [
    "## Exercise 1"
   ]
  },
  {
   "cell_type": "markdown",
   "metadata": {},
   "source": [
    "Create an assistant to answer a topic of your choosing:\n",
    " - Upload a file of your interest\n",
    " - Add Instructions to the prompt\n",
    " - Use the assistant in Playground mode\n",
    "\n",
    " https://platform.openai.com/playground/assistants"
   ]
  },
  {
   "cell_type": "code",
   "execution_count": 2,
   "metadata": {},
   "outputs": [],
   "source": [
    "import os\n",
    "from dotenv import load_dotenv\n",
    "from openai import OpenAI\n",
    "\n",
    "load_dotenv()\n",
    "secret_key = os.environ.get('OPENAI_API_KEY')\n",
    "\n",
    "client = OpenAI(api_key= secret_key)"
   ]
  },
  {
   "cell_type": "code",
   "execution_count": 3,
   "metadata": {},
   "outputs": [],
   "source": [
    "assistant = client.beta.assistants.create(\n",
    "  name=\"IoT and Edge Computing Expert\",\n",
    "  instructions=\"You are an expert in IoT and Edge Computing. You can help with a wide range of questions on these topics.\",\n",
    "  model=\"gpt-4o-mini\",\n",
    "  tools=[{\"type\": \"file_search\"}],\n",
    ")\n",
    "\n",
    "vector_store = client.beta.vector_stores.create(name=\"IoT and Edge Computing docs\")"
   ]
  },
  {
   "cell_type": "code",
   "execution_count": 6,
   "metadata": {},
   "outputs": [],
   "source": [
    "file_paths = ['C:/Users/Natanael/OneDrive - University of Puerto Rico/UPRM/2023-2024/Semestre final/Capstone/IoT and Edge Computing for Architects.pdf']\n",
    "file_streams = [open(path, \"rb\") for path in file_paths]"
   ]
  },
  {
   "cell_type": "code",
   "execution_count": 7,
   "metadata": {},
   "outputs": [
    {
     "name": "stdout",
     "output_type": "stream",
     "text": [
      "completed\n",
      "FileCounts(cancelled=0, completed=1, failed=0, in_progress=0, total=1)\n"
     ]
    }
   ],
   "source": [
    "file_batch = client.beta.vector_stores.file_batches.upload_and_poll(\n",
    "  vector_store_id=vector_store.id, files=file_streams\n",
    ")\n",
    " \n",
    "# You can print the status and the file counts of the batch to see the result of this operation.\n",
    "print(file_batch.status)\n",
    "print(file_batch.file_counts)"
   ]
  },
  {
   "cell_type": "code",
   "execution_count": 8,
   "metadata": {},
   "outputs": [],
   "source": [
    "assistant = client.beta.assistants.update(\n",
    "  assistant_id=assistant.id,\n",
    "  tool_resources={\"file_search\": {\"vector_store_ids\": [vector_store.id]}},\n",
    ")"
   ]
  },
  {
   "cell_type": "markdown",
   "metadata": {},
   "source": [
    "## Exercise 2"
   ]
  },
  {
   "cell_type": "markdown",
   "metadata": {},
   "source": [
    "Talk to your assistant via the API\n",
    "\n",
    "https://platform.openai.com/docs/assistants/overview"
   ]
  },
  {
   "cell_type": "code",
   "execution_count": 9,
   "metadata": {},
   "outputs": [],
   "source": [
    "thread = client.beta.threads.create()\n",
    "\n",
    "message = client.beta.threads.messages.create(\n",
    "  thread_id=thread.id,\n",
    "  role=\"user\",\n",
    "  content=\"Give me an overview of IoT and Edge Computing.\"\n",
    ")"
   ]
  },
  {
   "cell_type": "code",
   "execution_count": 10,
   "metadata": {},
   "outputs": [],
   "source": [
    "run = client.beta.threads.runs.create_and_poll(\n",
    "    thread_id=thread.id, assistant_id=assistant.id\n",
    ")"
   ]
  },
  {
   "cell_type": "code",
   "execution_count": 13,
   "metadata": {},
   "outputs": [
    {
     "name": "stdout",
     "output_type": "stream",
     "text": [
      "SyncCursorPage[Message](data=[Message(id='msg_MQJ9hkfkd7sRoWVNWFy8Sykf', assistant_id='asst_ILqi7xl2NdMyrkVQOk8BLdCQ', attachments=[], completed_at=None, content=[TextContentBlock(text=Text(annotations=[], value='### Overview of IoT (Internet of Things)\\n\\n**Definition:**\\nThe Internet of Things (IoT) refers to a network of interconnected devices that communicate and share data with each other over the internet. These devices include everyday objects like appliances, vehicles, wearables, and industrial machines equipped with sensors, software, and other technologies to collect and exchange data.\\n\\n**Key Components:**\\n1. **Devices and Sensors:** The physical objects that gather and transmit data.\\n2. **Connectivity:** The communication channels (like Wi-Fi, Bluetooth, or cellular) enabling device interaction and data transfer.\\n3. **Data Processing:** The analysis of collected data to extract insights, often utilizing cloud computing.\\n4. **User Interface:** The platform where users interact with IoT devices, often through mobile apps or dashboards.\\n\\n**Applications:**\\n- **Smart Homes:** Automation of household devices for convenience and energy efficiency.\\n- **Wearable Technology:** Health monitoring devices like fitness trackers and smartwatches.\\n- **Industrial IoT (IIoT):** Optimizing operations in manufacturing and supply chain through real-time monitoring and data analytics.\\n- **Smart Cities:** Enhancing urban infrastructure through data-driven solutions, such as traffic management and waste management systems.\\n\\n### Overview of Edge Computing\\n\\n**Definition:**\\nEdge computing is a distributed computing paradigm that brings computation and data storage closer to the sources of data (the \"edge\" of the network) rather than relying on a central data center. This reduces latency, bandwidth usage, and improves response times.\\n\\n**Key Characteristics:**\\n1. **Decentralization:** Rather than funneling all data to a central server, processing occurs locally at or near the data source.\\n2. **Real-Time Processing:** Facilitates faster data analysis and decision-making for time-sensitive applications.\\n3. **Reduced Latency:** Minimizes delays in data transmission, which is crucial for applications like autonomous vehicles and real-time monitoring.\\n4. **Bandwidth Efficiency:** Reduces the amount of data sent to the cloud, lowering costs and alleviating network congestion.\\n\\n**Applications:**\\n- **Autonomous Vehicles:** Real-time data processing for navigation, obstacle avoidance, and decision-making.\\n- **Smart Manufacturing:** Processing data locally from machinery for predictive maintenance and quality control.\\n- **Healthcare:** Immediate analysis of patient data from medical devices for timely interventions.\\n\\n### Intersection of IoT and Edge Computing\\n\\nThe combination of IoT and edge computing enhances the capabilities of connected devices. By utilizing edge computing, IoT applications can achieve improved performance, reduced latency, and higher reliability, leading to innovative solutions in various fields such as healthcare, transportation, and smart cities.\\n\\n### Conclusion\\n\\nIoT and edge computing represent significant technological advancements that are transforming industries by enabling smarter operations, enhancing efficiency, and improving user experiences. As these technologies continue to evolve, they promise to create a more connected and responsive world.'), type='text')], created_at=1738716349, incomplete_at=None, incomplete_details=None, metadata={}, object='thread.message', role='assistant', run_id='run_yKwC74Q2lW0raEdqPkhxDthX', status=None, thread_id='thread_lCxzteV7yaYByLMQuPxYWtEP'), Message(id='msg_wTD7At6zg76nnwVzRdC0oeGi', assistant_id=None, attachments=[], completed_at=None, content=[TextContentBlock(text=Text(annotations=[], value='Give me an overview of IoT and Edge Computing.'), type='text')], created_at=1738716291, incomplete_at=None, incomplete_details=None, metadata={}, object='thread.message', role='user', run_id=None, status=None, thread_id='thread_lCxzteV7yaYByLMQuPxYWtEP')], object='list', first_id='msg_MQJ9hkfkd7sRoWVNWFy8Sykf', last_id='msg_wTD7At6zg76nnwVzRdC0oeGi', has_more=False)\n"
     ]
    }
   ],
   "source": [
    "if run.status == 'completed': \n",
    "  messages = client.beta.threads.messages.list(\n",
    "    thread_id=thread.id\n",
    "  )\n",
    "  print(messages)\n",
    "else:\n",
    "  print(run.status)"
   ]
  },
  {
   "cell_type": "code",
   "execution_count": 36,
   "metadata": {},
   "outputs": [
    {
     "data": {
      "text/markdown": [
       "### Overview of IoT (Internet of Things)\n",
       "\n",
       "**Definition:**\n",
       "The Internet of Things (IoT) refers to a network of interconnected devices that communicate and share data with each other over the internet. These devices include everyday objects like appliances, vehicles, wearables, and industrial machines equipped with sensors, software, and other technologies to collect and exchange data.\n",
       "\n",
       "**Key Components:**\n",
       "1. **Devices and Sensors:** The physical objects that gather and transmit data.\n",
       "2. **Connectivity:** The communication channels (like Wi-Fi, Bluetooth, or cellular) enabling device interaction and data transfer.\n",
       "3. **Data Processing:** The analysis of collected data to extract insights, often utilizing cloud computing.\n",
       "4. **User Interface:** The platform where users interact with IoT devices, often through mobile apps or dashboards.\n",
       "\n",
       "**Applications:**\n",
       "- **Smart Homes:** Automation of household devices for convenience and energy efficiency.\n",
       "- **Wearable Technology:** Health monitoring devices like fitness trackers and smartwatches.\n",
       "- **Industrial IoT (IIoT):** Optimizing operations in manufacturing and supply chain through real-time monitoring and data analytics.\n",
       "- **Smart Cities:** Enhancing urban infrastructure through data-driven solutions, such as traffic management and waste management systems.\n",
       "\n",
       "### Overview of Edge Computing\n",
       "\n",
       "**Definition:**\n",
       "Edge computing is a distributed computing paradigm that brings computation and data storage closer to the sources of data (the \"edge\" of the network) rather than relying on a central data center. This reduces latency, bandwidth usage, and improves response times.\n",
       "\n",
       "**Key Characteristics:**\n",
       "1. **Decentralization:** Rather than funneling all data to a central server, processing occurs locally at or near the data source.\n",
       "2. **Real-Time Processing:** Facilitates faster data analysis and decision-making for time-sensitive applications.\n",
       "3. **Reduced Latency:** Minimizes delays in data transmission, which is crucial for applications like autonomous vehicles and real-time monitoring.\n",
       "4. **Bandwidth Efficiency:** Reduces the amount of data sent to the cloud, lowering costs and alleviating network congestion.\n",
       "\n",
       "**Applications:**\n",
       "- **Autonomous Vehicles:** Real-time data processing for navigation, obstacle avoidance, and decision-making.\n",
       "- **Smart Manufacturing:** Processing data locally from machinery for predictive maintenance and quality control.\n",
       "- **Healthcare:** Immediate analysis of patient data from medical devices for timely interventions.\n",
       "\n",
       "### Intersection of IoT and Edge Computing\n",
       "\n",
       "The combination of IoT and edge computing enhances the capabilities of connected devices. By utilizing edge computing, IoT applications can achieve improved performance, reduced latency, and higher reliability, leading to innovative solutions in various fields such as healthcare, transportation, and smart cities.\n",
       "\n",
       "### Conclusion\n",
       "\n",
       "IoT and edge computing represent significant technological advancements that are transforming industries by enabling smarter operations, enhancing efficiency, and improving user experiences. As these technologies continue to evolve, they promise to create a more connected and responsive world."
      ],
      "text/plain": [
       "<IPython.core.display.Markdown object>"
      ]
     },
     "metadata": {},
     "output_type": "display_data"
    }
   ],
   "source": [
    "from IPython.display import Markdown\n",
    "\n",
    "display(Markdown(messages.data[0].content[0].text.value))"
   ]
  },
  {
   "cell_type": "code",
   "execution_count": 53,
   "metadata": {},
   "outputs": [
    {
     "data": {
      "text/plain": [
       "Text(annotations=[], value='Give me an overview of IoT and Edge Computing.')"
      ]
     },
     "execution_count": 53,
     "metadata": {},
     "output_type": "execute_result"
    }
   ],
   "source": [
    "messages.data[1].content[0].text"
   ]
  },
  {
   "cell_type": "markdown",
   "metadata": {},
   "source": [
    "Another message"
   ]
  },
  {
   "cell_type": "code",
   "execution_count": 56,
   "metadata": {},
   "outputs": [
    {
     "name": "stdout",
     "output_type": "stream",
     "text": [
      "SyncCursorPage[Message](data=[Message(id='msg_5TvBRnWaY0tgrYh96w3o7hRL', assistant_id='asst_ILqi7xl2NdMyrkVQOk8BLdCQ', attachments=[], completed_at=None, content=[TextContentBlock(text=Text(annotations=[], value=\"You asked for an overview of IoT (Internet of Things) and Edge Computing. If you have any specific aspects you'd like to know more about or further questions regarding these topics, feel free to ask!\"), type='text')], created_at=1738717834, incomplete_at=None, incomplete_details=None, metadata={}, object='thread.message', role='assistant', run_id='run_Rjjv1votn5t0yu2kr2MYCaWM', status=None, thread_id='thread_lCxzteV7yaYByLMQuPxYWtEP'), Message(id='msg_QMcoHCp0WD1afnsjhN88J9m4', assistant_id=None, attachments=[], completed_at=None, content=[TextContentBlock(text=Text(annotations=[], value='What did I just ask you?'), type='text')], created_at=1738717832, incomplete_at=None, incomplete_details=None, metadata={}, object='thread.message', role='user', run_id=None, status=None, thread_id='thread_lCxzteV7yaYByLMQuPxYWtEP'), Message(id='msg_MQJ9hkfkd7sRoWVNWFy8Sykf', assistant_id='asst_ILqi7xl2NdMyrkVQOk8BLdCQ', attachments=[], completed_at=None, content=[TextContentBlock(text=Text(annotations=[], value='### Overview of IoT (Internet of Things)\\n\\n**Definition:**\\nThe Internet of Things (IoT) refers to a network of interconnected devices that communicate and share data with each other over the internet. These devices include everyday objects like appliances, vehicles, wearables, and industrial machines equipped with sensors, software, and other technologies to collect and exchange data.\\n\\n**Key Components:**\\n1. **Devices and Sensors:** The physical objects that gather and transmit data.\\n2. **Connectivity:** The communication channels (like Wi-Fi, Bluetooth, or cellular) enabling device interaction and data transfer.\\n3. **Data Processing:** The analysis of collected data to extract insights, often utilizing cloud computing.\\n4. **User Interface:** The platform where users interact with IoT devices, often through mobile apps or dashboards.\\n\\n**Applications:**\\n- **Smart Homes:** Automation of household devices for convenience and energy efficiency.\\n- **Wearable Technology:** Health monitoring devices like fitness trackers and smartwatches.\\n- **Industrial IoT (IIoT):** Optimizing operations in manufacturing and supply chain through real-time monitoring and data analytics.\\n- **Smart Cities:** Enhancing urban infrastructure through data-driven solutions, such as traffic management and waste management systems.\\n\\n### Overview of Edge Computing\\n\\n**Definition:**\\nEdge computing is a distributed computing paradigm that brings computation and data storage closer to the sources of data (the \"edge\" of the network) rather than relying on a central data center. This reduces latency, bandwidth usage, and improves response times.\\n\\n**Key Characteristics:**\\n1. **Decentralization:** Rather than funneling all data to a central server, processing occurs locally at or near the data source.\\n2. **Real-Time Processing:** Facilitates faster data analysis and decision-making for time-sensitive applications.\\n3. **Reduced Latency:** Minimizes delays in data transmission, which is crucial for applications like autonomous vehicles and real-time monitoring.\\n4. **Bandwidth Efficiency:** Reduces the amount of data sent to the cloud, lowering costs and alleviating network congestion.\\n\\n**Applications:**\\n- **Autonomous Vehicles:** Real-time data processing for navigation, obstacle avoidance, and decision-making.\\n- **Smart Manufacturing:** Processing data locally from machinery for predictive maintenance and quality control.\\n- **Healthcare:** Immediate analysis of patient data from medical devices for timely interventions.\\n\\n### Intersection of IoT and Edge Computing\\n\\nThe combination of IoT and edge computing enhances the capabilities of connected devices. By utilizing edge computing, IoT applications can achieve improved performance, reduced latency, and higher reliability, leading to innovative solutions in various fields such as healthcare, transportation, and smart cities.\\n\\n### Conclusion\\n\\nIoT and edge computing represent significant technological advancements that are transforming industries by enabling smarter operations, enhancing efficiency, and improving user experiences. As these technologies continue to evolve, they promise to create a more connected and responsive world.'), type='text')], created_at=1738716349, incomplete_at=None, incomplete_details=None, metadata={}, object='thread.message', role='assistant', run_id='run_yKwC74Q2lW0raEdqPkhxDthX', status=None, thread_id='thread_lCxzteV7yaYByLMQuPxYWtEP'), Message(id='msg_wTD7At6zg76nnwVzRdC0oeGi', assistant_id=None, attachments=[], completed_at=None, content=[TextContentBlock(text=Text(annotations=[], value='Give me an overview of IoT and Edge Computing.'), type='text')], created_at=1738716291, incomplete_at=None, incomplete_details=None, metadata={}, object='thread.message', role='user', run_id=None, status=None, thread_id='thread_lCxzteV7yaYByLMQuPxYWtEP')], object='list', first_id='msg_5TvBRnWaY0tgrYh96w3o7hRL', last_id='msg_wTD7At6zg76nnwVzRdC0oeGi', has_more=False)\n"
     ]
    }
   ],
   "source": [
    "message = client.beta.threads.messages.create(\n",
    "  thread_id=thread.id,\n",
    "  role=\"user\",\n",
    "  content=\"What did I just ask you?\"\n",
    ")\n",
    "\n",
    "run = client.beta.threads.runs.create_and_poll(\n",
    "    thread_id=thread.id, assistant_id=assistant.id\n",
    ")\n",
    "\n",
    "if run.status == 'completed': \n",
    "  messages = client.beta.threads.messages.list(\n",
    "    thread_id=thread.id\n",
    "  )\n",
    "  print(messages)\n",
    "else:\n",
    "  print(run.status)"
   ]
  },
  {
   "cell_type": "code",
   "execution_count": 57,
   "metadata": {},
   "outputs": [
    {
     "data": {
      "text/markdown": [
       "You asked for an overview of IoT (Internet of Things) and Edge Computing. If you have any specific aspects you'd like to know more about or further questions regarding these topics, feel free to ask!"
      ],
      "text/plain": [
       "<IPython.core.display.Markdown object>"
      ]
     },
     "metadata": {},
     "output_type": "display_data"
    }
   ],
   "source": [
    "from IPython.display import Markdown\n",
    "\n",
    "display(Markdown(messages.data[0].content[0].text.value))"
   ]
  },
  {
   "cell_type": "code",
   "execution_count": 58,
   "metadata": {},
   "outputs": [
    {
     "name": "stdout",
     "output_type": "stream",
     "text": [
      "SyncCursorPage[Message](data=[Message(id='msg_WPgHNdo4ahz0jv7WFrhUPZLN', assistant_id='asst_ILqi7xl2NdMyrkVQOk8BLdCQ', attachments=[], completed_at=None, content=[TextContentBlock(text=Text(annotations=[], value='I provided a general overview based on my training data and knowledge up to October 2023, which includes widely accepted information about IoT and Edge Computing. However, if you have uploaded documents that might contain relevant information on these topics, I can search through those documents for any references. Would you like me to do that?'), type='text')], created_at=1738717910, incomplete_at=None, incomplete_details=None, metadata={}, object='thread.message', role='assistant', run_id='run_OwN5Jnm6uYPhedXTUoSq8grj', status=None, thread_id='thread_lCxzteV7yaYByLMQuPxYWtEP'), Message(id='msg_NL1azyuxxJATk5lwA86fbVrd', assistant_id=None, attachments=[], completed_at=None, content=[TextContentBlock(text=Text(annotations=[], value='Do you have any reference document? From where did you get that information?'), type='text')], created_at=1738717908, incomplete_at=None, incomplete_details=None, metadata={}, object='thread.message', role='user', run_id=None, status=None, thread_id='thread_lCxzteV7yaYByLMQuPxYWtEP'), Message(id='msg_5TvBRnWaY0tgrYh96w3o7hRL', assistant_id='asst_ILqi7xl2NdMyrkVQOk8BLdCQ', attachments=[], completed_at=None, content=[TextContentBlock(text=Text(annotations=[], value=\"You asked for an overview of IoT (Internet of Things) and Edge Computing. If you have any specific aspects you'd like to know more about or further questions regarding these topics, feel free to ask!\"), type='text')], created_at=1738717834, incomplete_at=None, incomplete_details=None, metadata={}, object='thread.message', role='assistant', run_id='run_Rjjv1votn5t0yu2kr2MYCaWM', status=None, thread_id='thread_lCxzteV7yaYByLMQuPxYWtEP'), Message(id='msg_QMcoHCp0WD1afnsjhN88J9m4', assistant_id=None, attachments=[], completed_at=None, content=[TextContentBlock(text=Text(annotations=[], value='What did I just ask you?'), type='text')], created_at=1738717832, incomplete_at=None, incomplete_details=None, metadata={}, object='thread.message', role='user', run_id=None, status=None, thread_id='thread_lCxzteV7yaYByLMQuPxYWtEP'), Message(id='msg_MQJ9hkfkd7sRoWVNWFy8Sykf', assistant_id='asst_ILqi7xl2NdMyrkVQOk8BLdCQ', attachments=[], completed_at=None, content=[TextContentBlock(text=Text(annotations=[], value='### Overview of IoT (Internet of Things)\\n\\n**Definition:**\\nThe Internet of Things (IoT) refers to a network of interconnected devices that communicate and share data with each other over the internet. These devices include everyday objects like appliances, vehicles, wearables, and industrial machines equipped with sensors, software, and other technologies to collect and exchange data.\\n\\n**Key Components:**\\n1. **Devices and Sensors:** The physical objects that gather and transmit data.\\n2. **Connectivity:** The communication channels (like Wi-Fi, Bluetooth, or cellular) enabling device interaction and data transfer.\\n3. **Data Processing:** The analysis of collected data to extract insights, often utilizing cloud computing.\\n4. **User Interface:** The platform where users interact with IoT devices, often through mobile apps or dashboards.\\n\\n**Applications:**\\n- **Smart Homes:** Automation of household devices for convenience and energy efficiency.\\n- **Wearable Technology:** Health monitoring devices like fitness trackers and smartwatches.\\n- **Industrial IoT (IIoT):** Optimizing operations in manufacturing and supply chain through real-time monitoring and data analytics.\\n- **Smart Cities:** Enhancing urban infrastructure through data-driven solutions, such as traffic management and waste management systems.\\n\\n### Overview of Edge Computing\\n\\n**Definition:**\\nEdge computing is a distributed computing paradigm that brings computation and data storage closer to the sources of data (the \"edge\" of the network) rather than relying on a central data center. This reduces latency, bandwidth usage, and improves response times.\\n\\n**Key Characteristics:**\\n1. **Decentralization:** Rather than funneling all data to a central server, processing occurs locally at or near the data source.\\n2. **Real-Time Processing:** Facilitates faster data analysis and decision-making for time-sensitive applications.\\n3. **Reduced Latency:** Minimizes delays in data transmission, which is crucial for applications like autonomous vehicles and real-time monitoring.\\n4. **Bandwidth Efficiency:** Reduces the amount of data sent to the cloud, lowering costs and alleviating network congestion.\\n\\n**Applications:**\\n- **Autonomous Vehicles:** Real-time data processing for navigation, obstacle avoidance, and decision-making.\\n- **Smart Manufacturing:** Processing data locally from machinery for predictive maintenance and quality control.\\n- **Healthcare:** Immediate analysis of patient data from medical devices for timely interventions.\\n\\n### Intersection of IoT and Edge Computing\\n\\nThe combination of IoT and edge computing enhances the capabilities of connected devices. By utilizing edge computing, IoT applications can achieve improved performance, reduced latency, and higher reliability, leading to innovative solutions in various fields such as healthcare, transportation, and smart cities.\\n\\n### Conclusion\\n\\nIoT and edge computing represent significant technological advancements that are transforming industries by enabling smarter operations, enhancing efficiency, and improving user experiences. As these technologies continue to evolve, they promise to create a more connected and responsive world.'), type='text')], created_at=1738716349, incomplete_at=None, incomplete_details=None, metadata={}, object='thread.message', role='assistant', run_id='run_yKwC74Q2lW0raEdqPkhxDthX', status=None, thread_id='thread_lCxzteV7yaYByLMQuPxYWtEP'), Message(id='msg_wTD7At6zg76nnwVzRdC0oeGi', assistant_id=None, attachments=[], completed_at=None, content=[TextContentBlock(text=Text(annotations=[], value='Give me an overview of IoT and Edge Computing.'), type='text')], created_at=1738716291, incomplete_at=None, incomplete_details=None, metadata={}, object='thread.message', role='user', run_id=None, status=None, thread_id='thread_lCxzteV7yaYByLMQuPxYWtEP')], object='list', first_id='msg_WPgHNdo4ahz0jv7WFrhUPZLN', last_id='msg_wTD7At6zg76nnwVzRdC0oeGi', has_more=False)\n"
     ]
    },
    {
     "data": {
      "text/markdown": [
       "I provided a general overview based on my training data and knowledge up to October 2023, which includes widely accepted information about IoT and Edge Computing. However, if you have uploaded documents that might contain relevant information on these topics, I can search through those documents for any references. Would you like me to do that?"
      ],
      "text/plain": [
       "<IPython.core.display.Markdown object>"
      ]
     },
     "metadata": {},
     "output_type": "display_data"
    }
   ],
   "source": [
    "message = client.beta.threads.messages.create(\n",
    "  thread_id=thread.id,\n",
    "  role=\"user\",\n",
    "  content=\"Do you have any reference document? From where did you get that information?\"\n",
    ")\n",
    "\n",
    "run = client.beta.threads.runs.create_and_poll(\n",
    "    thread_id=thread.id, assistant_id=assistant.id\n",
    ")\n",
    "\n",
    "if run.status == 'completed': \n",
    "  messages = client.beta.threads.messages.list(\n",
    "    thread_id=thread.id\n",
    "  )\n",
    "  print(messages)\n",
    "  display(Markdown(messages.data[0].content[0].text.value))\n",
    "else:\n",
    "  print(run.status)\n",
    "\n"
   ]
  },
  {
   "cell_type": "markdown",
   "metadata": {},
   "source": [
    "Another test, since it apparently did not read the document i uplodaded."
   ]
  },
  {
   "cell_type": "code",
   "execution_count": 59,
   "metadata": {},
   "outputs": [
    {
     "name": "stdout",
     "output_type": "stream",
     "text": [
      "SyncCursorPage[Message](data=[Message(id='msg_EK4hnL6VgX2f5AGjolq08E53', assistant_id='asst_ILqi7xl2NdMyrkVQOk8BLdCQ', attachments=[], completed_at=None, content=[TextContentBlock(text=Text(annotations=[FileCitationAnnotation(end_index=398, file_citation=FileCitation(file_id='file-WaFbtLUS8SGTJ416uo1wov'), start_index=385, text='【10:1†source】', type='file_citation'), FileCitationAnnotation(end_index=620, file_citation=FileCitation(file_id='file-WaFbtLUS8SGTJ416uo1wov'), start_index=607, text='【10:2†source】', type='file_citation'), FileCitationAnnotation(end_index=882, file_citation=FileCitation(file_id='file-WaFbtLUS8SGTJ416uo1wov'), start_index=869, text='【10:4†source】', type='file_citation'), FileCitationAnnotation(end_index=1086, file_citation=FileCitation(file_id='file-WaFbtLUS8SGTJ416uo1wov'), start_index=1073, text='【10:3†source】', type='file_citation'), FileCitationAnnotation(end_index=1099, file_citation=FileCitation(file_id='file-WaFbtLUS8SGTJ416uo1wov'), start_index=1086, text='【10:8†source】', type='file_citation'), FileCitationAnnotation(end_index=1314, file_citation=FileCitation(file_id='file-WaFbtLUS8SGTJ416uo1wov'), start_index=1300, text='【10:10†source】', type='file_citation'), FileCitationAnnotation(end_index=1328, file_citation=FileCitation(file_id='file-WaFbtLUS8SGTJ416uo1wov'), start_index=1314, text='【10:11†source】', type='file_citation'), FileCitationAnnotation(end_index=1551, file_citation=FileCitation(file_id='file-WaFbtLUS8SGTJ416uo1wov'), start_index=1537, text='【10:12†source】', type='file_citation'), FileCitationAnnotation(end_index=1565, file_citation=FileCitation(file_id='file-WaFbtLUS8SGTJ416uo1wov'), start_index=1551, text='【10:18†source】', type='file_citation')], value='The document you uploaded, titled \"IoT and Edge Computing for Architects,\" contains extensive information about IoT and Edge Computing. Here are some key references from the document:\\n\\n1. **Definition and Use Cases:**\\n   - The book starts by defining IoT and edge computing, discussing their roles in various industries and providing numerous use cases, from healthcare to smart cities【10:1†source】.\\n\\n2. **Architecture and Core Modules:**\\n   - It covers the essential components and architecture required to build a comprehensive IoT and edge system, emphasizing the interconnectedness of these technologies【10:2†source】.\\n\\n3. **Communication and Information Theory:**\\n   - The document explains the importance of communication technologies that facilitate data transmission in IoT environments, detailing various protocols and standards like Bluetooth, Zigbee, and more【10:4†source】.\\n\\n4. **Edge Computing:**\\n   - It discusses how edge computing optimizes the data processing that occurs closer to data sources, reducing latency and improving efficiency for IoT applications【10:3†source】【10:8†source】.\\n\\n5. **Use Cases and Applications:**\\n   - Specific edge computing use cases are explored, including device automation, industrial controls, healthcare solutions, and resilient communication management【10:10†source】【10:11†source】.\\n\\n6. **Security and Reliability:**\\n   - The book touches on crucial aspects of security and reliability in IoT systems, noting the intersections with edge computing and the importance of managing data privacy【10:12†source】【10:18†source】.\\n\\nThis document provides a comprehensive overview of both IoT and Edge Computing, emphasizing real-world applications and architectural best practices. If you need information on a specific section or topic within the document, please let me know!'), type='text')], created_at=1738718504, incomplete_at=None, incomplete_details=None, metadata={}, object='thread.message', role='assistant', run_id='run_RlbXp1qqwM2ESliOchyetGQF', status=None, thread_id='thread_lCxzteV7yaYByLMQuPxYWtEP'), Message(id='msg_338snrNUS5r8vxZW5CWnhdau', assistant_id=None, attachments=[], completed_at=None, content=[TextContentBlock(text=Text(annotations=[], value='Can you search the document I uploaded for references on IoT and Edge Computing?'), type='text')], created_at=1738718496, incomplete_at=None, incomplete_details=None, metadata={}, object='thread.message', role='user', run_id=None, status=None, thread_id='thread_lCxzteV7yaYByLMQuPxYWtEP'), Message(id='msg_WPgHNdo4ahz0jv7WFrhUPZLN', assistant_id='asst_ILqi7xl2NdMyrkVQOk8BLdCQ', attachments=[], completed_at=None, content=[TextContentBlock(text=Text(annotations=[], value='I provided a general overview based on my training data and knowledge up to October 2023, which includes widely accepted information about IoT and Edge Computing. However, if you have uploaded documents that might contain relevant information on these topics, I can search through those documents for any references. Would you like me to do that?'), type='text')], created_at=1738717910, incomplete_at=None, incomplete_details=None, metadata={}, object='thread.message', role='assistant', run_id='run_OwN5Jnm6uYPhedXTUoSq8grj', status=None, thread_id='thread_lCxzteV7yaYByLMQuPxYWtEP'), Message(id='msg_NL1azyuxxJATk5lwA86fbVrd', assistant_id=None, attachments=[], completed_at=None, content=[TextContentBlock(text=Text(annotations=[], value='Do you have any reference document? From where did you get that information?'), type='text')], created_at=1738717908, incomplete_at=None, incomplete_details=None, metadata={}, object='thread.message', role='user', run_id=None, status=None, thread_id='thread_lCxzteV7yaYByLMQuPxYWtEP'), Message(id='msg_5TvBRnWaY0tgrYh96w3o7hRL', assistant_id='asst_ILqi7xl2NdMyrkVQOk8BLdCQ', attachments=[], completed_at=None, content=[TextContentBlock(text=Text(annotations=[], value=\"You asked for an overview of IoT (Internet of Things) and Edge Computing. If you have any specific aspects you'd like to know more about or further questions regarding these topics, feel free to ask!\"), type='text')], created_at=1738717834, incomplete_at=None, incomplete_details=None, metadata={}, object='thread.message', role='assistant', run_id='run_Rjjv1votn5t0yu2kr2MYCaWM', status=None, thread_id='thread_lCxzteV7yaYByLMQuPxYWtEP'), Message(id='msg_QMcoHCp0WD1afnsjhN88J9m4', assistant_id=None, attachments=[], completed_at=None, content=[TextContentBlock(text=Text(annotations=[], value='What did I just ask you?'), type='text')], created_at=1738717832, incomplete_at=None, incomplete_details=None, metadata={}, object='thread.message', role='user', run_id=None, status=None, thread_id='thread_lCxzteV7yaYByLMQuPxYWtEP'), Message(id='msg_MQJ9hkfkd7sRoWVNWFy8Sykf', assistant_id='asst_ILqi7xl2NdMyrkVQOk8BLdCQ', attachments=[], completed_at=None, content=[TextContentBlock(text=Text(annotations=[], value='### Overview of IoT (Internet of Things)\\n\\n**Definition:**\\nThe Internet of Things (IoT) refers to a network of interconnected devices that communicate and share data with each other over the internet. These devices include everyday objects like appliances, vehicles, wearables, and industrial machines equipped with sensors, software, and other technologies to collect and exchange data.\\n\\n**Key Components:**\\n1. **Devices and Sensors:** The physical objects that gather and transmit data.\\n2. **Connectivity:** The communication channels (like Wi-Fi, Bluetooth, or cellular) enabling device interaction and data transfer.\\n3. **Data Processing:** The analysis of collected data to extract insights, often utilizing cloud computing.\\n4. **User Interface:** The platform where users interact with IoT devices, often through mobile apps or dashboards.\\n\\n**Applications:**\\n- **Smart Homes:** Automation of household devices for convenience and energy efficiency.\\n- **Wearable Technology:** Health monitoring devices like fitness trackers and smartwatches.\\n- **Industrial IoT (IIoT):** Optimizing operations in manufacturing and supply chain through real-time monitoring and data analytics.\\n- **Smart Cities:** Enhancing urban infrastructure through data-driven solutions, such as traffic management and waste management systems.\\n\\n### Overview of Edge Computing\\n\\n**Definition:**\\nEdge computing is a distributed computing paradigm that brings computation and data storage closer to the sources of data (the \"edge\" of the network) rather than relying on a central data center. This reduces latency, bandwidth usage, and improves response times.\\n\\n**Key Characteristics:**\\n1. **Decentralization:** Rather than funneling all data to a central server, processing occurs locally at or near the data source.\\n2. **Real-Time Processing:** Facilitates faster data analysis and decision-making for time-sensitive applications.\\n3. **Reduced Latency:** Minimizes delays in data transmission, which is crucial for applications like autonomous vehicles and real-time monitoring.\\n4. **Bandwidth Efficiency:** Reduces the amount of data sent to the cloud, lowering costs and alleviating network congestion.\\n\\n**Applications:**\\n- **Autonomous Vehicles:** Real-time data processing for navigation, obstacle avoidance, and decision-making.\\n- **Smart Manufacturing:** Processing data locally from machinery for predictive maintenance and quality control.\\n- **Healthcare:** Immediate analysis of patient data from medical devices for timely interventions.\\n\\n### Intersection of IoT and Edge Computing\\n\\nThe combination of IoT and edge computing enhances the capabilities of connected devices. By utilizing edge computing, IoT applications can achieve improved performance, reduced latency, and higher reliability, leading to innovative solutions in various fields such as healthcare, transportation, and smart cities.\\n\\n### Conclusion\\n\\nIoT and edge computing represent significant technological advancements that are transforming industries by enabling smarter operations, enhancing efficiency, and improving user experiences. As these technologies continue to evolve, they promise to create a more connected and responsive world.'), type='text')], created_at=1738716349, incomplete_at=None, incomplete_details=None, metadata={}, object='thread.message', role='assistant', run_id='run_yKwC74Q2lW0raEdqPkhxDthX', status=None, thread_id='thread_lCxzteV7yaYByLMQuPxYWtEP'), Message(id='msg_wTD7At6zg76nnwVzRdC0oeGi', assistant_id=None, attachments=[], completed_at=None, content=[TextContentBlock(text=Text(annotations=[], value='Give me an overview of IoT and Edge Computing.'), type='text')], created_at=1738716291, incomplete_at=None, incomplete_details=None, metadata={}, object='thread.message', role='user', run_id=None, status=None, thread_id='thread_lCxzteV7yaYByLMQuPxYWtEP')], object='list', first_id='msg_EK4hnL6VgX2f5AGjolq08E53', last_id='msg_wTD7At6zg76nnwVzRdC0oeGi', has_more=False)\n"
     ]
    },
    {
     "data": {
      "text/markdown": [
       "The document you uploaded, titled \"IoT and Edge Computing for Architects,\" contains extensive information about IoT and Edge Computing. Here are some key references from the document:\n",
       "\n",
       "1. **Definition and Use Cases:**\n",
       "   - The book starts by defining IoT and edge computing, discussing their roles in various industries and providing numerous use cases, from healthcare to smart cities【10:1†source】.\n",
       "\n",
       "2. **Architecture and Core Modules:**\n",
       "   - It covers the essential components and architecture required to build a comprehensive IoT and edge system, emphasizing the interconnectedness of these technologies【10:2†source】.\n",
       "\n",
       "3. **Communication and Information Theory:**\n",
       "   - The document explains the importance of communication technologies that facilitate data transmission in IoT environments, detailing various protocols and standards like Bluetooth, Zigbee, and more【10:4†source】.\n",
       "\n",
       "4. **Edge Computing:**\n",
       "   - It discusses how edge computing optimizes the data processing that occurs closer to data sources, reducing latency and improving efficiency for IoT applications【10:3†source】【10:8†source】.\n",
       "\n",
       "5. **Use Cases and Applications:**\n",
       "   - Specific edge computing use cases are explored, including device automation, industrial controls, healthcare solutions, and resilient communication management【10:10†source】【10:11†source】.\n",
       "\n",
       "6. **Security and Reliability:**\n",
       "   - The book touches on crucial aspects of security and reliability in IoT systems, noting the intersections with edge computing and the importance of managing data privacy【10:12†source】【10:18†source】.\n",
       "\n",
       "This document provides a comprehensive overview of both IoT and Edge Computing, emphasizing real-world applications and architectural best practices. If you need information on a specific section or topic within the document, please let me know!"
      ],
      "text/plain": [
       "<IPython.core.display.Markdown object>"
      ]
     },
     "metadata": {},
     "output_type": "display_data"
    }
   ],
   "source": [
    "message = client.beta.threads.messages.create(\n",
    "  thread_id=thread.id,\n",
    "  role=\"user\",\n",
    "  content=\"Can you search the document I uploaded for references on IoT and Edge Computing?\"\n",
    ")\n",
    "\n",
    "run = client.beta.threads.runs.create_and_poll(\n",
    "    thread_id=thread.id, assistant_id=assistant.id\n",
    ")\n",
    "\n",
    "if run.status == 'completed': \n",
    "  messages = client.beta.threads.messages.list(\n",
    "    thread_id=thread.id\n",
    "  )\n",
    "  print(messages)\n",
    "  display(Markdown(messages.data[0].content[0].text.value))\n",
    "else:\n",
    "  print(run.status)"
   ]
  },
  {
   "cell_type": "code",
   "execution_count": 72,
   "metadata": {},
   "outputs": [],
   "source": [
    "message_content = messages.data[0].content[0].text"
   ]
  },
  {
   "cell_type": "code",
   "execution_count": 73,
   "metadata": {},
   "outputs": [
    {
     "name": "stdout",
     "output_type": "stream",
     "text": [
      "[0] IoT and Edge Computing for Architects.pdf\n",
      "[1] IoT and Edge Computing for Architects.pdf\n",
      "[2] IoT and Edge Computing for Architects.pdf\n",
      "[3] IoT and Edge Computing for Architects.pdf\n",
      "[4] IoT and Edge Computing for Architects.pdf\n",
      "[5] IoT and Edge Computing for Architects.pdf\n",
      "[6] IoT and Edge Computing for Architects.pdf\n",
      "[7] IoT and Edge Computing for Architects.pdf\n",
      "[8] IoT and Edge Computing for Architects.pdf\n"
     ]
    }
   ],
   "source": [
    "annotations = message_content.annotations\n",
    "citations = []\n",
    "for index, annotation in enumerate(annotations):\n",
    "    message_content.value = message_content.value.replace(annotation.text, f\"[{index}]\")\n",
    "    if file_citation := getattr(annotation, \"file_citation\", None):\n",
    "        cited_file = client.files.retrieve(file_citation.file_id)\n",
    "        citations.append(f\"[{index}] {cited_file.filename}\")\n",
    "\n",
    "\n",
    "print(\"\\n\".join(citations))"
   ]
  },
  {
   "cell_type": "markdown",
   "metadata": {},
   "source": [
    "## Exercise 3"
   ]
  },
  {
   "cell_type": "markdown",
   "metadata": {},
   "source": [
    "Create an assistant that will call a weather API, given the user's answer and return the proper answer.\n",
    "\n",
    "See the documentation of the weather API here: https://open-meteo.com/en/docs"
   ]
  },
  {
   "cell_type": "code",
   "execution_count": 78,
   "metadata": {},
   "outputs": [
    {
     "name": "stdout",
     "output_type": "stream",
     "text": [
      "{'latitude': 52.52, 'longitude': 13.419998, 'generationtime_ms': 0.042319297790527344, 'utc_offset_seconds': 0, 'timezone': 'GMT', 'timezone_abbreviation': 'GMT', 'elevation': 38.0, 'hourly_units': {'time': 'iso8601', 'temperature_2m': '°C'}, 'hourly': {'time': ['2025-02-05T00:00', '2025-02-05T01:00', '2025-02-05T02:00', '2025-02-05T03:00', '2025-02-05T04:00', '2025-02-05T05:00', '2025-02-05T06:00', '2025-02-05T07:00', '2025-02-05T08:00', '2025-02-05T09:00', '2025-02-05T10:00', '2025-02-05T11:00', '2025-02-05T12:00', '2025-02-05T13:00', '2025-02-05T14:00', '2025-02-05T15:00', '2025-02-05T16:00', '2025-02-05T17:00', '2025-02-05T18:00', '2025-02-05T19:00', '2025-02-05T20:00', '2025-02-05T21:00', '2025-02-05T22:00', '2025-02-05T23:00', '2025-02-06T00:00', '2025-02-06T01:00', '2025-02-06T02:00', '2025-02-06T03:00', '2025-02-06T04:00', '2025-02-06T05:00', '2025-02-06T06:00', '2025-02-06T07:00', '2025-02-06T08:00', '2025-02-06T09:00', '2025-02-06T10:00', '2025-02-06T11:00', '2025-02-06T12:00', '2025-02-06T13:00', '2025-02-06T14:00', '2025-02-06T15:00', '2025-02-06T16:00', '2025-02-06T17:00', '2025-02-06T18:00', '2025-02-06T19:00', '2025-02-06T20:00', '2025-02-06T21:00', '2025-02-06T22:00', '2025-02-06T23:00', '2025-02-07T00:00', '2025-02-07T01:00', '2025-02-07T02:00', '2025-02-07T03:00', '2025-02-07T04:00', '2025-02-07T05:00', '2025-02-07T06:00', '2025-02-07T07:00', '2025-02-07T08:00', '2025-02-07T09:00', '2025-02-07T10:00', '2025-02-07T11:00', '2025-02-07T12:00', '2025-02-07T13:00', '2025-02-07T14:00', '2025-02-07T15:00', '2025-02-07T16:00', '2025-02-07T17:00', '2025-02-07T18:00', '2025-02-07T19:00', '2025-02-07T20:00', '2025-02-07T21:00', '2025-02-07T22:00', '2025-02-07T23:00', '2025-02-08T00:00', '2025-02-08T01:00', '2025-02-08T02:00', '2025-02-08T03:00', '2025-02-08T04:00', '2025-02-08T05:00', '2025-02-08T06:00', '2025-02-08T07:00', '2025-02-08T08:00', '2025-02-08T09:00', '2025-02-08T10:00', '2025-02-08T11:00', '2025-02-08T12:00', '2025-02-08T13:00', '2025-02-08T14:00', '2025-02-08T15:00', '2025-02-08T16:00', '2025-02-08T17:00', '2025-02-08T18:00', '2025-02-08T19:00', '2025-02-08T20:00', '2025-02-08T21:00', '2025-02-08T22:00', '2025-02-08T23:00', '2025-02-09T00:00', '2025-02-09T01:00', '2025-02-09T02:00', '2025-02-09T03:00', '2025-02-09T04:00', '2025-02-09T05:00', '2025-02-09T06:00', '2025-02-09T07:00', '2025-02-09T08:00', '2025-02-09T09:00', '2025-02-09T10:00', '2025-02-09T11:00', '2025-02-09T12:00', '2025-02-09T13:00', '2025-02-09T14:00', '2025-02-09T15:00', '2025-02-09T16:00', '2025-02-09T17:00', '2025-02-09T18:00', '2025-02-09T19:00', '2025-02-09T20:00', '2025-02-09T21:00', '2025-02-09T22:00', '2025-02-09T23:00', '2025-02-10T00:00', '2025-02-10T01:00', '2025-02-10T02:00', '2025-02-10T03:00', '2025-02-10T04:00', '2025-02-10T05:00', '2025-02-10T06:00', '2025-02-10T07:00', '2025-02-10T08:00', '2025-02-10T09:00', '2025-02-10T10:00', '2025-02-10T11:00', '2025-02-10T12:00', '2025-02-10T13:00', '2025-02-10T14:00', '2025-02-10T15:00', '2025-02-10T16:00', '2025-02-10T17:00', '2025-02-10T18:00', '2025-02-10T19:00', '2025-02-10T20:00', '2025-02-10T21:00', '2025-02-10T22:00', '2025-02-10T23:00', '2025-02-11T00:00', '2025-02-11T01:00', '2025-02-11T02:00', '2025-02-11T03:00', '2025-02-11T04:00', '2025-02-11T05:00', '2025-02-11T06:00', '2025-02-11T07:00', '2025-02-11T08:00', '2025-02-11T09:00', '2025-02-11T10:00', '2025-02-11T11:00', '2025-02-11T12:00', '2025-02-11T13:00', '2025-02-11T14:00', '2025-02-11T15:00', '2025-02-11T16:00', '2025-02-11T17:00', '2025-02-11T18:00', '2025-02-11T19:00', '2025-02-11T20:00', '2025-02-11T21:00', '2025-02-11T22:00', '2025-02-11T23:00'], 'temperature_2m': [-2.3, -2.7, -3.0, -3.0, -3.0, -2.9, -2.6, -1.7, -0.7, 0.3, 1.0, 1.7, 2.9, 3.5, 3.8, 3.6, 2.9, 2.4, 2.2, 2.2, 1.9, 1.8, 1.7, 1.7, 1.6, 1.6, 1.6, 1.6, 1.5, 1.3, 1.1, 1.0, 1.3, 2.0, 3.0, 4.4, 5.2, 6.0, 6.0, 5.3, 4.6, 4.0, 3.5, 3.2, 3.1, 2.6, 1.9, 1.1, 0.4, 0.8, 0.7, 1.0, 1.2, 1.0, 0.9, 0.7, 1.0, 1.7, 2.5, 3.1, 3.6, 4.2, 4.2, 3.9, 3.0, 2.2, 1.5, 0.8, 0.2, -0.3, -0.6, -0.9, -1.3, -1.6, -1.8, -2.0, -2.2, -2.2, -2.1, -1.9, -1.6, -0.9, 0.4, 2.1, 3.3, 3.7, 3.6, 3.3, 2.7, 1.8, 1.1, 0.7, 0.4, 0.1, -0.3, -0.6, -0.9, -1.1, -1.2, -1.3, -1.5, -1.8, -1.9, -1.8, -1.6, -1.1, -0.2, 1.0, 1.9, 2.2, 2.2, 2.0, 1.6, 1.0, 0.6, -0.4, -0.7, -0.9, -1.1, -1.2, -1.4, -1.6, -1.9, -2.1, -2.1, -2.1, -2.1, -2.0, -1.8, -1.5, -0.9, -0.1, 0.5, 0.8, 0.9, 0.8, 0.5, 0.1, -0.4, -0.8, -1.1, -1.5, -1.9, -2.4, -2.8, -3.2, -3.5, -3.8, -4.1, -4.4, -4.5, -4.3, -3.8, -3.1, -1.9, -0.5, 0.5, 0.6, 0.2, -0.2, -0.4, -0.5, -0.7, -1.1, -1.5, -2.0, -2.4, -2.8]}}\n"
     ]
    }
   ],
   "source": [
    "import requests\n",
    "\n",
    "def get_weather_forecast(latitude, longitude):\n",
    "    base_url = \"https://api.open-meteo.com/v1/forecast\"\n",
    "    params = {\n",
    "        \"latitude\": latitude,\n",
    "        \"longitude\": longitude,\n",
    "        \"hourly\": \"temperature_2m\"\n",
    "    }\n",
    "    response = requests.get(base_url, params=params)\n",
    "    return response.json()\n",
    "\n",
    "# Example usage:\n",
    "forecast = get_weather_forecast(52.52, 13.41)\n",
    "print(forecast)"
   ]
  },
  {
   "cell_type": "code",
   "execution_count": null,
   "metadata": {},
   "outputs": [],
   "source": []
  },
  {
   "cell_type": "markdown",
   "metadata": {},
   "source": [
    "### If you want to, there is a hint here:"
   ]
  },
  {
   "cell_type": "markdown",
   "metadata": {},
   "source": [
    "OpenAI Chatbots / Assistants have a way to respond in json format. \n",
    "\n",
    "Explore the function calling functionality"
   ]
  }
 ],
 "metadata": {
  "kernelspec": {
   "display_name": "base",
   "language": "python",
   "name": "python3"
  },
  "language_info": {
   "codemirror_mode": {
    "name": "ipython",
    "version": 3
   },
   "file_extension": ".py",
   "mimetype": "text/x-python",
   "name": "python",
   "nbconvert_exporter": "python",
   "pygments_lexer": "ipython3",
   "version": "3.12.7"
  }
 },
 "nbformat": 4,
 "nbformat_minor": 2
}
